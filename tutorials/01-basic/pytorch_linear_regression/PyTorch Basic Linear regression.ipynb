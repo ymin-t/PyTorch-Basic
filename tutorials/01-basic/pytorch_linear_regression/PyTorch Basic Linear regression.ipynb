{
 "cells": [
  {
   "cell_type": "code",
   "execution_count": 25,
   "id": "9139cfff",
   "metadata": {},
   "outputs": [],
   "source": [
    "import torch\n",
    "import torch.nn as nn\n",
    "import numpy as np\n",
    "import matplotlib.pyplot as plt"
   ]
  },
  {
   "cell_type": "markdown",
   "id": "e8c02a7a",
   "metadata": {},
   "source": [
    "## 1. Generate dataset y = 7x"
   ]
  },
  {
   "cell_type": "code",
   "execution_count": 26,
   "id": "4430ca30",
   "metadata": {},
   "outputs": [],
   "source": [
    "x = torch.randn(100,1)\n",
    "y = 7*x + torch.randn(100,1)"
   ]
  },
  {
   "cell_type": "code",
   "execution_count": 27,
   "id": "27a42ae4",
   "metadata": {},
   "outputs": [
    {
     "data": {
      "text/plain": [
       "Text(0.5, 1.0, 'Scatter plot')"
      ]
     },
     "execution_count": 27,
     "metadata": {},
     "output_type": "execute_result"
    },
    {
     "data": {
      "image/png": "[encoded data removed]",
      "text/plain": [
       "<Figure size 432x288 with 1 Axes>"
      ]
     },
     "metadata": {
      "needs_background": "light"
     },
     "output_type": "display_data"
    }
   ],
   "source": [
    "plt.plot(x,y,'o')\n",
    "plt.ylabel('y')\n",
    "plt.xlabel('x')\n",
    "plt.title('Scatter plot')"
   ]
  },
  {
   "cell_type": "markdown",
   "id": "a1d497b0",
   "metadata": {},
   "source": [
    "## 2. Hyper parameters"
   ]
  },
  {
   "cell_type": "code",
   "execution_count": 47,
   "id": "a50da8fc",
   "metadata": {},
   "outputs": [],
   "source": [
    "input_size = 1\n",
    "output_size = 1\n",
    "learning_rate = 0.01\n",
    "num_epochs = 1000"
   ]
  },
  {
   "cell_type": "markdown",
   "id": "62de5782",
   "metadata": {},
   "source": [
    "## 3. Model, Loss function and Optimiser"
   ]
  },
  {
   "cell_type": "code",
   "execution_count": 29,
   "id": "bea3bf82",
   "metadata": {},
   "outputs": [],
   "source": [
    "# create a linear regression class\n",
    "class LinearRegression(nn.Module):\n",
    "    def __init__(self, input_size, output_size):\n",
    "        super(LinearRegression, self).__init__()\n",
    "        self.linear = nn.Linear(input_size, output_size)\n",
    "        \n",
    "    def forward(self, x):\n",
    "        out = self.linear(x)\n",
    "        return out"
   ]
  },
  {
   "cell_type": "code",
   "execution_count": null,
   "id": "8066a6bc",
   "metadata": {},
   "outputs": [],
   "source": []
  },
  {
   "cell_type": "code",
   "execution_count": 30,
   "id": "52811cf0",
   "metadata": {},
   "outputs": [],
   "source": [
    "# create a funtion to get parameters and plot\n",
    "\n",
    "def get_params(Model):\n",
    "    [w, b] = Model.parameters()\n",
    "    return (w[0][0].item(), b[0].item())\n",
    "\n",
    "\n",
    "def plot_linear(Model, x):\n",
    "    w1, b1 = get_params(Model)\n",
    "    x1 = np.array([x.min(), x.max()])\n",
    "    y1 = w1*x1 + b1\n",
    "    plt.plot(x1, y1, 'r')\n",
    "    plt.scatter(x, y)\n",
    "    plt.ylabel('y')\n",
    "    plt.xlabel('x')\n",
    "    plt.title('Fitted line against dataset')\n",
    "    plt.show()"
   ]
  },
  {
   "cell_type": "code",
   "execution_count": 31,
   "id": "3a0fddc7",
   "metadata": {},
   "outputs": [
    {
     "data": {
      "image/png": "[encoded data removed]",
      "text/plain": [
       "<Figure size 432x288 with 1 Axes>"
      ]
     },
     "metadata": {
      "needs_background": "light"
     },
     "output_type": "display_data"
    }
   ],
   "source": [
    "# let test all the function\n",
    "\n",
    "# create LinearRegression(1,1)\n",
    "model = LinearRegression(1,1)\n",
    "\n",
    "# plot it against dataset\n",
    "plot_linear(model, x)"
   ]
  },
  {
   "cell_type": "code",
   "execution_count": 32,
   "id": "4a007799",
   "metadata": {},
   "outputs": [],
   "source": [
    "# define the optimiser anf loss function\n",
    "\n",
    "criterion = nn.MSELoss()\n",
    "optimizer = torch.optim.SGD(model.parameters(), lr= learning_rate)"
   ]
  },
  {
   "cell_type": "markdown",
   "id": "f8d77eb7",
   "metadata": {},
   "source": [
    "## 4. Training"
   ]
  },
  {
   "cell_type": "code",
   "execution_count": 48,
   "id": "44be6279",
   "metadata": {},
   "outputs": [
    {
     "name": "stdout",
     "output_type": "stream",
     "text": [
      "Epoch [100/1000], loss 0.8680\n",
      "Epoch [200/1000], loss 0.8680\n",
      "Epoch [300/1000], loss 0.8680\n",
      "Epoch [400/1000], loss 0.8680\n",
      "Epoch [500/1000], loss 0.8680\n",
      "Epoch [600/1000], loss 0.8680\n",
      "Epoch [700/1000], loss 0.8680\n",
      "Epoch [800/1000], loss 0.8680\n",
      "Epoch [900/1000], loss 0.8680\n"
     ]
    }
   ],
   "source": [
    "losses = []\n",
    "\n",
    "for i in range(1, num_epochs):   \n",
    "    # Forward pass\n",
    "    y_pred = model.forward(x)\n",
    "    loss = criterion(y_pred, y)\n",
    "    \n",
    "    # print loss\n",
    "    if i % (num_epochs/10) == 0:\n",
    "        print('Epoch [{}/{}], loss {:.4f}'.format(i, num_epochs, loss.item()))\n",
    "    \n",
    "    # Backward and optimise\n",
    "    optimizer.zero_grad()\n",
    "    loss.backward()\n",
    "    optimizer.step()\n"
   ]
  },
  {
   "cell_type": "markdown",
   "id": "685d6876",
   "metadata": {},
   "source": [
    "## Model equation and plot"
   ]
  },
  {
   "cell_type": "code",
   "execution_count": 49,
   "id": "26932a02",
   "metadata": {},
   "outputs": [
    {
     "name": "stdout",
     "output_type": "stream",
     "text": [
      "The equation of the model is y = 7.0427x -0.1023\n"
     ]
    }
   ],
   "source": [
    "w1,b1 = get_params(model)\n",
    "\n",
    "print('The equation of the model is y = {:.4f}x {:.4f}'.format(w1, b1))"
   ]
  },
  {
   "cell_type": "code",
   "execution_count": 50,
   "id": "3801c1c2",
   "metadata": {},
   "outputs": [
    {
     "data": {
      "image/png": "[encoded data removed]",
      "text/plain": [
       "<Figure size 432x288 with 1 Axes>"
      ]
     },
     "metadata": {
      "needs_background": "light"
     },
     "output_type": "display_data"
    }
   ],
   "source": [
    "plot_linear(model, x)"
   ]
  },
  {
   "cell_type": "markdown",
   "id": "a627cc25",
   "metadata": {},
   "source": [
    "### Thanks for reading! Have a nice day"
   ]
  }
 ],
 "metadata": {
  "kernelspec": {
   "display_name": "Python 3 (ipykernel)",
   "language": "python",
   "name": "python3"
  },
  "language_info": {
   "codemirror_mode": {
    "name": "ipython",
    "version": 3
   },
   "file_extension": ".py",
   "mimetype": "text/x-python",
   "name": "python",
   "nbconvert_exporter": "python",
   "pygments_lexer": "ipython3",
   "version": "3.8.3"
  }
 },
 "nbformat": 4,
 "nbformat_minor": 5
}
